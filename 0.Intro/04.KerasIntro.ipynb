{
 "cells": [
  {
   "cell_type": "code",
   "execution_count": 1,
   "metadata": {},
   "outputs": [],
   "source": [
    "# Cosas de OSX...\n",
    "import os\n",
    "os.environ['KMP_DUPLICATE_LIB_OK']='True'"
   ]
  },
  {
   "cell_type": "markdown",
   "metadata": {},
   "source": [
    "### Estructura PIMA Indiands Diabetes dataset\n",
    "   1. Number of times pregnant\n",
    "   2. Plasma glucose concentration a 2 hours in an oral glucose tolerance test\n",
    "   3. Diastolic blood pressure (mm Hg)\n",
    "   4. Triceps skin fold thickness (mm)\n",
    "   5. 2-Hour serum insulin (mu U/ml)\n",
    "   6. Body mass index (weight in kg/(height in m)^2)\n",
    "   7. Diabetes pedigree function\n",
    "   8. Age (years)\n",
    "   9. Class variable (0 or 1)"
   ]
  },
  {
   "cell_type": "code",
   "execution_count": 2,
   "metadata": {},
   "outputs": [
    {
     "name": "stderr",
     "output_type": "stream",
     "text": [
      "Using TensorFlow backend.\n"
     ]
    }
   ],
   "source": [
    "import matplotlib.pyplot as plt\n",
    "\n",
    "from keras.models import Sequential\n",
    "from keras.layers import Dense\n",
    "import numpy\n",
    "\n",
    "numpy.random.seed(7)"
   ]
  },
  {
   "cell_type": "code",
   "execution_count": 3,
   "metadata": {},
   "outputs": [],
   "source": [
    "dataset = numpy.loadtxt(\"pima-indians-diabetes.csv\", delimiter=\",\")"
   ]
  },
  {
   "cell_type": "code",
   "execution_count": 4,
   "metadata": {},
   "outputs": [],
   "source": [
    "X = dataset[:,0:8]\n",
    "Y = dataset[:,8]"
   ]
  },
  {
   "cell_type": "code",
   "execution_count": 18,
   "metadata": {},
   "outputs": [],
   "source": [
    "model = Sequential()\n",
    "model.add(Dense(32, input_dim=8, activation='relu'))\n",
    "model.add(Dense(16, activation='relu'))\n",
    "model.add(Dense(1, activation='sigmoid'))"
   ]
  },
  {
   "cell_type": "code",
   "execution_count": 19,
   "metadata": {},
   "outputs": [],
   "source": [
    "model.compile(loss='binary_crossentropy', optimizer='adam', metrics=['accuracy'])"
   ]
  },
  {
   "cell_type": "code",
   "execution_count": 20,
   "metadata": {},
   "outputs": [
    {
     "name": "stdout",
     "output_type": "stream",
     "text": [
      "Train on 614 samples, validate on 154 samples\n",
      "Epoch 1/150\n",
      "614/614 [==============================] - 2s 4ms/step - loss: 1.6450 - acc: 0.5977 - val_loss: 0.9693 - val_acc: 0.5455\n",
      "Epoch 2/150\n",
      "614/614 [==============================] - 0s 527us/step - loss: 0.9583 - acc: 0.5993 - val_loss: 0.9800 - val_acc: 0.5714\n",
      "Epoch 3/150\n",
      "614/614 [==============================] - 0s 447us/step - loss: 0.7526 - acc: 0.6596 - val_loss: 0.8494 - val_acc: 0.5779\n",
      "Epoch 4/150\n",
      "614/614 [==============================] - 0s 636us/step - loss: 0.7175 - acc: 0.6531 - val_loss: 0.8352 - val_acc: 0.5909\n",
      "Epoch 5/150\n",
      "614/614 [==============================] - 0s 419us/step - loss: 0.7000 - acc: 0.6775 - val_loss: 0.8922 - val_acc: 0.6104\n",
      "Epoch 6/150\n",
      "614/614 [==============================] - 0s 530us/step - loss: 0.6674 - acc: 0.6873 - val_loss: 0.8722 - val_acc: 0.5909\n",
      "Epoch 7/150\n",
      "614/614 [==============================] - 0s 670us/step - loss: 0.6569 - acc: 0.7003 - val_loss: 0.9519 - val_acc: 0.6364\n",
      "Epoch 8/150\n",
      "614/614 [==============================] - 0s 635us/step - loss: 0.7508 - acc: 0.6498 - val_loss: 0.8018 - val_acc: 0.6429\n",
      "Epoch 9/150\n",
      "614/614 [==============================] - 0s 567us/step - loss: 0.7056 - acc: 0.6743 - val_loss: 0.9255 - val_acc: 0.6494\n",
      "Epoch 10/150\n",
      "614/614 [==============================] - 1s 1ms/step - loss: 0.7600 - acc: 0.6547 - val_loss: 0.8433 - val_acc: 0.5909\n",
      "Epoch 11/150\n",
      "614/614 [==============================] - 1s 1ms/step - loss: 0.7076 - acc: 0.6726 - val_loss: 0.8101 - val_acc: 0.6169\n",
      "Epoch 12/150\n",
      "614/614 [==============================] - 1s 904us/step - loss: 0.6997 - acc: 0.6743 - val_loss: 0.9510 - val_acc: 0.5390\n",
      "Epoch 13/150\n",
      "614/614 [==============================] - 1s 1ms/step - loss: 0.6421 - acc: 0.7036 - val_loss: 0.7165 - val_acc: 0.6234\n",
      "Epoch 14/150\n",
      "614/614 [==============================] - 1s 825us/step - loss: 0.6197 - acc: 0.7036 - val_loss: 1.1015 - val_acc: 0.4545\n",
      "Epoch 15/150\n",
      "614/614 [==============================] - 0s 727us/step - loss: 0.6152 - acc: 0.6857 - val_loss: 0.7084 - val_acc: 0.6429\n",
      "Epoch 16/150\n",
      "614/614 [==============================] - 0s 794us/step - loss: 0.5906 - acc: 0.7101 - val_loss: 0.8062 - val_acc: 0.5714\n",
      "Epoch 17/150\n",
      "614/614 [==============================] - 0s 670us/step - loss: 0.6075 - acc: 0.7020 - val_loss: 0.7247 - val_acc: 0.6623\n",
      "Epoch 18/150\n",
      "614/614 [==============================] - ETA: 0s - loss: 0.7513 - acc: 0.651 - 0s 695us/step - loss: 0.7588 - acc: 0.6482 - val_loss: 0.7316 - val_acc: 0.6234\n",
      "Epoch 19/150\n",
      "614/614 [==============================] - 0s 682us/step - loss: 0.5882 - acc: 0.7215 - val_loss: 0.7497 - val_acc: 0.6494\n",
      "Epoch 20/150\n",
      "614/614 [==============================] - 0s 712us/step - loss: 0.6332 - acc: 0.7068 - val_loss: 0.7407 - val_acc: 0.6234\n",
      "Epoch 21/150\n",
      "614/614 [==============================] - 0s 813us/step - loss: 0.6080 - acc: 0.7182 - val_loss: 0.6667 - val_acc: 0.6494\n",
      "Epoch 22/150\n",
      "614/614 [==============================] - 1s 1ms/step - loss: 0.5948 - acc: 0.7329 - val_loss: 0.8592 - val_acc: 0.6364\n",
      "Epoch 23/150\n",
      "614/614 [==============================] - 1s 1ms/step - loss: 0.6075 - acc: 0.7036 - val_loss: 0.6887 - val_acc: 0.6169\n",
      "Epoch 24/150\n",
      "614/614 [==============================] - 1s 1ms/step - loss: 0.5951 - acc: 0.7085 - val_loss: 0.6953 - val_acc: 0.6494\n",
      "Epoch 25/150\n",
      "614/614 [==============================] - 1s 1ms/step - loss: 0.5837 - acc: 0.7117 - val_loss: 0.6756 - val_acc: 0.6494\n",
      "Epoch 26/150\n",
      "614/614 [==============================] - 1s 1ms/step - loss: 0.5656 - acc: 0.7378 - val_loss: 0.6999 - val_acc: 0.6299\n",
      "Epoch 27/150\n",
      "614/614 [==============================] - 1s 1ms/step - loss: 0.5880 - acc: 0.7150 - val_loss: 0.6395 - val_acc: 0.6883\n",
      "Epoch 28/150\n",
      "614/614 [==============================] - 0s 721us/step - loss: 0.5698 - acc: 0.7134 - val_loss: 0.7181 - val_acc: 0.6429\n",
      "Epoch 29/150\n",
      "614/614 [==============================] - 1s 847us/step - loss: 0.5642 - acc: 0.7296 - val_loss: 0.6717 - val_acc: 0.6623\n",
      "Epoch 30/150\n",
      "614/614 [==============================] - 0s 812us/step - loss: 0.6209 - acc: 0.6954 - val_loss: 0.6576 - val_acc: 0.6688\n",
      "Epoch 31/150\n",
      "614/614 [==============================] - 1s 991us/step - loss: 0.6279 - acc: 0.7101 - val_loss: 0.6477 - val_acc: 0.6818\n",
      "Epoch 32/150\n",
      "614/614 [==============================] - 1s 1ms/step - loss: 0.5673 - acc: 0.7345 - val_loss: 0.8588 - val_acc: 0.6299\n",
      "Epoch 33/150\n",
      "614/614 [==============================] - 1s 1ms/step - loss: 0.6195 - acc: 0.7068 - val_loss: 0.7084 - val_acc: 0.6558\n",
      "Epoch 34/150\n",
      "614/614 [==============================] - 1s 1ms/step - loss: 0.5610 - acc: 0.7280 - val_loss: 0.6286 - val_acc: 0.6948\n",
      "Epoch 35/150\n",
      "614/614 [==============================] - 1s 1ms/step - loss: 0.5902 - acc: 0.7362 - val_loss: 0.8655 - val_acc: 0.5455\n",
      "Epoch 36/150\n",
      "614/614 [==============================] - 1s 897us/step - loss: 0.5800 - acc: 0.7362 - val_loss: 0.6736 - val_acc: 0.6753\n",
      "Epoch 37/150\n",
      "614/614 [==============================] - 1s 1ms/step - loss: 0.5527 - acc: 0.7231 - val_loss: 0.7356 - val_acc: 0.6299\n",
      "Epoch 38/150\n",
      "614/614 [==============================] - 1s 1ms/step - loss: 0.5680 - acc: 0.7199 - val_loss: 0.6381 - val_acc: 0.6753\n",
      "Epoch 39/150\n",
      "614/614 [==============================] - 1s 1ms/step - loss: 0.5512 - acc: 0.7345 - val_loss: 0.6244 - val_acc: 0.6558\n",
      "Epoch 40/150\n",
      "614/614 [==============================] - 1s 1ms/step - loss: 0.5680 - acc: 0.7101 - val_loss: 0.6358 - val_acc: 0.6558\n",
      "Epoch 41/150\n",
      "614/614 [==============================] - 1s 1ms/step - loss: 0.6232 - acc: 0.7264 - val_loss: 0.6455 - val_acc: 0.6299\n",
      "Epoch 42/150\n",
      "614/614 [==============================] - 1s 1ms/step - loss: 0.5455 - acc: 0.7427 - val_loss: 0.6435 - val_acc: 0.6494\n",
      "Epoch 43/150\n",
      "614/614 [==============================] - 1s 1ms/step - loss: 0.5978 - acc: 0.7085 - val_loss: 0.6185 - val_acc: 0.6818\n",
      "Epoch 44/150\n",
      "614/614 [==============================] - 1s 1ms/step - loss: 0.5634 - acc: 0.7280 - val_loss: 0.6154 - val_acc: 0.7273\n",
      "Epoch 45/150\n",
      "614/614 [==============================] - 1s 1ms/step - loss: 0.5567 - acc: 0.7117 - val_loss: 0.7487 - val_acc: 0.6753\n",
      "Epoch 46/150\n",
      "614/614 [==============================] - 1s 1ms/step - loss: 0.5403 - acc: 0.7313 - val_loss: 0.6440 - val_acc: 0.6753\n",
      "Epoch 47/150\n",
      "614/614 [==============================] - 1s 912us/step - loss: 0.6472 - acc: 0.6971 - val_loss: 0.6067 - val_acc: 0.6883\n",
      "Epoch 48/150\n",
      "614/614 [==============================] - 1s 944us/step - loss: 0.5489 - acc: 0.7362 - val_loss: 0.9594 - val_acc: 0.6623\n",
      "Epoch 49/150\n",
      "614/614 [==============================] - 1s 982us/step - loss: 0.5721 - acc: 0.7378 - val_loss: 0.8288 - val_acc: 0.6558\n",
      "Epoch 50/150\n",
      "614/614 [==============================] - 1s 965us/step - loss: 0.5589 - acc: 0.7248 - val_loss: 0.6207 - val_acc: 0.6883\n",
      "Epoch 51/150\n",
      "614/614 [==============================] - 1s 1ms/step - loss: 0.5658 - acc: 0.7020 - val_loss: 0.6264 - val_acc: 0.6623\n",
      "Epoch 52/150\n",
      "614/614 [==============================] - 1s 961us/step - loss: 0.5528 - acc: 0.7150 - val_loss: 0.6424 - val_acc: 0.6753\n",
      "Epoch 53/150\n",
      "614/614 [==============================] - 1s 1ms/step - loss: 0.5899 - acc: 0.7427 - val_loss: 0.6467 - val_acc: 0.6883\n",
      "Epoch 54/150\n",
      "614/614 [==============================] - 1s 1ms/step - loss: 0.5517 - acc: 0.7264 - val_loss: 0.6543 - val_acc: 0.6558\n",
      "Epoch 55/150\n",
      "614/614 [==============================] - 1s 1ms/step - loss: 0.5308 - acc: 0.7427 - val_loss: 0.6110 - val_acc: 0.6688\n",
      "Epoch 56/150\n",
      "614/614 [==============================] - 1s 1ms/step - loss: 0.5300 - acc: 0.7313 - val_loss: 0.6259 - val_acc: 0.6753\n",
      "Epoch 57/150\n",
      "614/614 [==============================] - 1s 1ms/step - loss: 0.6250 - acc: 0.7166 - val_loss: 0.6355 - val_acc: 0.6883\n",
      "Epoch 58/150\n",
      "614/614 [==============================] - 1s 1ms/step - loss: 0.5856 - acc: 0.7362 - val_loss: 0.6168 - val_acc: 0.7078\n",
      "Epoch 59/150\n",
      "614/614 [==============================] - 1s 1ms/step - loss: 0.5382 - acc: 0.7443 - val_loss: 0.7409 - val_acc: 0.6169\n",
      "Epoch 60/150\n",
      "614/614 [==============================] - 1s 1ms/step - loss: 0.5559 - acc: 0.7117 - val_loss: 0.6123 - val_acc: 0.7013\n",
      "Epoch 61/150\n"
     ]
    },
    {
     "name": "stdout",
     "output_type": "stream",
     "text": [
      "614/614 [==============================] - 1s 1ms/step - loss: 0.5179 - acc: 0.7606 - val_loss: 0.5983 - val_acc: 0.7143\n",
      "Epoch 62/150\n",
      "614/614 [==============================] - 1s 1ms/step - loss: 0.5915 - acc: 0.7362 - val_loss: 0.7800 - val_acc: 0.5974\n",
      "Epoch 63/150\n",
      "614/614 [==============================] - 1s 1ms/step - loss: 0.5257 - acc: 0.7573 - val_loss: 0.6005 - val_acc: 0.7078\n",
      "Epoch 64/150\n",
      "614/614 [==============================] - 1s 1ms/step - loss: 0.5139 - acc: 0.7541 - val_loss: 0.6066 - val_acc: 0.7208\n",
      "Epoch 65/150\n",
      "614/614 [==============================] - 1s 1ms/step - loss: 0.5671 - acc: 0.7199 - val_loss: 0.6369 - val_acc: 0.6818\n",
      "Epoch 66/150\n",
      "614/614 [==============================] - 1s 1ms/step - loss: 0.5315 - acc: 0.7459 - val_loss: 0.5889 - val_acc: 0.7338\n",
      "Epoch 67/150\n",
      "614/614 [==============================] - 1s 1ms/step - loss: 0.5690 - acc: 0.7182 - val_loss: 0.8723 - val_acc: 0.6558\n",
      "Epoch 68/150\n",
      "614/614 [==============================] - 1s 1ms/step - loss: 0.5852 - acc: 0.7362 - val_loss: 0.6022 - val_acc: 0.7143\n",
      "Epoch 69/150\n",
      "614/614 [==============================] - 1s 1ms/step - loss: 0.5715 - acc: 0.7541 - val_loss: 0.7019 - val_acc: 0.6494\n",
      "Epoch 70/150\n",
      "614/614 [==============================] - 1s 1ms/step - loss: 0.5323 - acc: 0.7410 - val_loss: 0.6559 - val_acc: 0.6818\n",
      "Epoch 71/150\n",
      "614/614 [==============================] - 1s 1ms/step - loss: 0.5332 - acc: 0.7378 - val_loss: 0.6749 - val_acc: 0.6948\n",
      "Epoch 72/150\n",
      "614/614 [==============================] - 1s 1ms/step - loss: 0.5365 - acc: 0.7427 - val_loss: 0.8526 - val_acc: 0.6623\n",
      "Epoch 73/150\n",
      "614/614 [==============================] - 1s 1ms/step - loss: 0.5306 - acc: 0.7622 - val_loss: 0.6737 - val_acc: 0.6883\n",
      "Epoch 74/150\n",
      "614/614 [==============================] - 1s 1ms/step - loss: 0.5823 - acc: 0.7166 - val_loss: 0.6580 - val_acc: 0.6623\n",
      "Epoch 75/150\n",
      "614/614 [==============================] - 1s 1ms/step - loss: 0.5282 - acc: 0.7215 - val_loss: 0.7359 - val_acc: 0.6818\n",
      "Epoch 76/150\n",
      "614/614 [==============================] - 1s 1ms/step - loss: 0.5569 - acc: 0.7476 - val_loss: 1.0092 - val_acc: 0.5390\n",
      "Epoch 77/150\n",
      "614/614 [==============================] - 1s 2ms/step - loss: 0.5518 - acc: 0.7394 - val_loss: 0.5957 - val_acc: 0.7208\n",
      "Epoch 78/150\n",
      "614/614 [==============================] - 1s 1ms/step - loss: 0.5119 - acc: 0.7638 - val_loss: 0.6583 - val_acc: 0.7013\n",
      "Epoch 79/150\n",
      "614/614 [==============================] - 1s 834us/step - loss: 0.4995 - acc: 0.7622 - val_loss: 0.6350 - val_acc: 0.6883\n",
      "Epoch 80/150\n",
      "614/614 [==============================] - 1s 1ms/step - loss: 0.5176 - acc: 0.7524 - val_loss: 0.6307 - val_acc: 0.7013\n",
      "Epoch 81/150\n",
      "614/614 [==============================] - 0s 813us/step - loss: 0.5891 - acc: 0.7410 - val_loss: 0.6144 - val_acc: 0.7208\n",
      "Epoch 82/150\n",
      "614/614 [==============================] - 1s 920us/step - loss: 0.4818 - acc: 0.7622 - val_loss: 0.6747 - val_acc: 0.6883\n",
      "Epoch 83/150\n",
      "614/614 [==============================] - 1s 1ms/step - loss: 0.4955 - acc: 0.7476 - val_loss: 0.6126 - val_acc: 0.7143\n",
      "Epoch 84/150\n",
      "614/614 [==============================] - 1s 1ms/step - loss: 0.5179 - acc: 0.7345 - val_loss: 0.6096 - val_acc: 0.6818\n",
      "Epoch 85/150\n",
      "614/614 [==============================] - 1s 1ms/step - loss: 0.5289 - acc: 0.7573 - val_loss: 0.5892 - val_acc: 0.7273\n",
      "Epoch 86/150\n",
      "614/614 [==============================] - 1s 1ms/step - loss: 0.5208 - acc: 0.7459 - val_loss: 1.0137 - val_acc: 0.5584\n",
      "Epoch 87/150\n",
      "614/614 [==============================] - 1s 1ms/step - loss: 0.4982 - acc: 0.7508 - val_loss: 0.6012 - val_acc: 0.7403\n",
      "Epoch 88/150\n",
      "614/614 [==============================] - 1s 1ms/step - loss: 0.4985 - acc: 0.7655 - val_loss: 0.7000 - val_acc: 0.6429\n",
      "Epoch 89/150\n",
      "614/614 [==============================] - 1s 1ms/step - loss: 0.5254 - acc: 0.7459 - val_loss: 0.6544 - val_acc: 0.6753\n",
      "Epoch 90/150\n",
      "614/614 [==============================] - 1s 1ms/step - loss: 0.5096 - acc: 0.7541 - val_loss: 0.6155 - val_acc: 0.7078\n",
      "Epoch 91/150\n",
      "614/614 [==============================] - 1s 1ms/step - loss: 0.4885 - acc: 0.7671 - val_loss: 0.5967 - val_acc: 0.7143\n",
      "Epoch 92/150\n",
      "614/614 [==============================] - 1s 1ms/step - loss: 0.4825 - acc: 0.7606 - val_loss: 0.5908 - val_acc: 0.7403\n",
      "Epoch 93/150\n",
      "614/614 [==============================] - 1s 1ms/step - loss: 0.4988 - acc: 0.7573 - val_loss: 0.6011 - val_acc: 0.7338\n",
      "Epoch 94/150\n",
      "614/614 [==============================] - 1s 1ms/step - loss: 0.4818 - acc: 0.7557 - val_loss: 0.6215 - val_acc: 0.7208\n",
      "Epoch 95/150\n",
      "614/614 [==============================] - 1s 1ms/step - loss: 0.4803 - acc: 0.7655 - val_loss: 0.6024 - val_acc: 0.7143\n",
      "Epoch 96/150\n",
      "614/614 [==============================] - 1s 1ms/step - loss: 0.4927 - acc: 0.7687 - val_loss: 0.7179 - val_acc: 0.6299\n",
      "Epoch 97/150\n",
      "614/614 [==============================] - 1s 1ms/step - loss: 0.4927 - acc: 0.7638 - val_loss: 0.5881 - val_acc: 0.7338\n",
      "Epoch 98/150\n",
      "614/614 [==============================] - 1s 1ms/step - loss: 0.4829 - acc: 0.7541 - val_loss: 0.6056 - val_acc: 0.7338\n",
      "Epoch 99/150\n",
      "614/614 [==============================] - 1s 1ms/step - loss: 0.5352 - acc: 0.7459 - val_loss: 0.6660 - val_acc: 0.6883\n",
      "Epoch 100/150\n",
      "614/614 [==============================] - 1s 1ms/step - loss: 0.4950 - acc: 0.7769 - val_loss: 0.7578 - val_acc: 0.6818\n",
      "Epoch 101/150\n",
      "614/614 [==============================] - 1s 1ms/step - loss: 0.5138 - acc: 0.7427 - val_loss: 0.6062 - val_acc: 0.7338\n",
      "Epoch 102/150\n",
      "614/614 [==============================] - 1s 1ms/step - loss: 0.4885 - acc: 0.7752 - val_loss: 0.6089 - val_acc: 0.7208\n",
      "Epoch 103/150\n",
      "614/614 [==============================] - 1s 1ms/step - loss: 0.4844 - acc: 0.7671 - val_loss: 0.6000 - val_acc: 0.7468\n",
      "Epoch 104/150\n",
      "614/614 [==============================] - 1s 1ms/step - loss: 0.4850 - acc: 0.7687 - val_loss: 0.6123 - val_acc: 0.7013\n",
      "Epoch 105/150\n",
      "614/614 [==============================] - 1s 1ms/step - loss: 0.4870 - acc: 0.7671 - val_loss: 0.6956 - val_acc: 0.6623\n",
      "Epoch 106/150\n",
      "614/614 [==============================] - 1s 1ms/step - loss: 0.4794 - acc: 0.7736 - val_loss: 0.6419 - val_acc: 0.7013\n",
      "Epoch 107/150\n",
      "614/614 [==============================] - 1s 1ms/step - loss: 0.5064 - acc: 0.7638 - val_loss: 0.6058 - val_acc: 0.7208\n",
      "Epoch 108/150\n",
      "614/614 [==============================] - 1s 1ms/step - loss: 0.5456 - acc: 0.7378 - val_loss: 0.6933 - val_acc: 0.6688\n",
      "Epoch 109/150\n",
      "614/614 [==============================] - 1s 1ms/step - loss: 0.5202 - acc: 0.7590 - val_loss: 0.5966 - val_acc: 0.7143\n",
      "Epoch 110/150\n",
      "614/614 [==============================] - 1s 1ms/step - loss: 0.4570 - acc: 0.7818 - val_loss: 0.5995 - val_acc: 0.7338\n",
      "Epoch 111/150\n",
      "614/614 [==============================] - 1s 1ms/step - loss: 0.5107 - acc: 0.7541 - val_loss: 0.7727 - val_acc: 0.6753\n",
      "Epoch 112/150\n",
      "614/614 [==============================] - 1s 1ms/step - loss: 0.4842 - acc: 0.7720 - val_loss: 0.6110 - val_acc: 0.7403\n",
      "Epoch 113/150\n",
      "614/614 [==============================] - 1s 949us/step - loss: 0.4989 - acc: 0.7476 - val_loss: 0.6872 - val_acc: 0.6494\n",
      "Epoch 114/150\n",
      "614/614 [==============================] - 1s 979us/step - loss: 0.5026 - acc: 0.7524 - val_loss: 0.6870 - val_acc: 0.6494\n",
      "Epoch 115/150\n",
      "614/614 [==============================] - 1s 914us/step - loss: 0.4868 - acc: 0.7704 - val_loss: 0.6170 - val_acc: 0.7078\n",
      "Epoch 116/150\n",
      "614/614 [==============================] - 1s 929us/step - loss: 0.4878 - acc: 0.7752 - val_loss: 0.6118 - val_acc: 0.7403\n",
      "Epoch 117/150\n",
      "614/614 [==============================] - 1s 923us/step - loss: 0.4944 - acc: 0.7638 - val_loss: 0.6151 - val_acc: 0.7208\n",
      "Epoch 118/150\n",
      "614/614 [==============================] - 1s 1ms/step - loss: 0.4746 - acc: 0.7736 - val_loss: 0.6009 - val_acc: 0.7468\n",
      "Epoch 119/150\n",
      "614/614 [==============================] - 1s 868us/step - loss: 0.4967 - acc: 0.7785 - val_loss: 0.6132 - val_acc: 0.7208\n",
      "Epoch 120/150\n",
      "614/614 [==============================] - 1s 823us/step - loss: 0.4890 - acc: 0.7573 - val_loss: 0.5862 - val_acc: 0.7338\n",
      "Epoch 121/150\n",
      "614/614 [==============================] - 1s 896us/step - loss: 0.4899 - acc: 0.7557 - val_loss: 0.6249 - val_acc: 0.7013\n"
     ]
    },
    {
     "name": "stdout",
     "output_type": "stream",
     "text": [
      "Epoch 122/150\n",
      "614/614 [==============================] - 1s 855us/step - loss: 0.4707 - acc: 0.7785 - val_loss: 0.6039 - val_acc: 0.7403\n",
      "Epoch 123/150\n",
      "614/614 [==============================] - 1s 838us/step - loss: 0.4811 - acc: 0.7720 - val_loss: 0.7093 - val_acc: 0.6299\n",
      "Epoch 124/150\n",
      "614/614 [==============================] - 1s 831us/step - loss: 0.4558 - acc: 0.7915 - val_loss: 0.6191 - val_acc: 0.7338\n",
      "Epoch 125/150\n",
      "614/614 [==============================] - 1s 904us/step - loss: 0.5092 - acc: 0.7541 - val_loss: 0.6274 - val_acc: 0.6753\n",
      "Epoch 126/150\n",
      "614/614 [==============================] - 1s 832us/step - loss: 0.4815 - acc: 0.7476 - val_loss: 0.6242 - val_acc: 0.7143\n",
      "Epoch 127/150\n",
      "614/614 [==============================] - 1s 947us/step - loss: 0.4694 - acc: 0.7769 - val_loss: 0.6177 - val_acc: 0.7208\n",
      "Epoch 128/150\n",
      "614/614 [==============================] - 1s 825us/step - loss: 0.4702 - acc: 0.7785 - val_loss: 0.6695 - val_acc: 0.6883\n",
      "Epoch 129/150\n",
      "614/614 [==============================] - 1s 914us/step - loss: 0.4947 - acc: 0.7622 - val_loss: 0.6628 - val_acc: 0.7013\n",
      "Epoch 130/150\n",
      "614/614 [==============================] - 1s 1ms/step - loss: 0.4885 - acc: 0.7866 - val_loss: 0.7612 - val_acc: 0.6623\n",
      "Epoch 131/150\n",
      "614/614 [==============================] - 1s 853us/step - loss: 0.4945 - acc: 0.7459 - val_loss: 0.5964 - val_acc: 0.7208\n",
      "Epoch 132/150\n",
      "614/614 [==============================] - 1s 910us/step - loss: 0.4870 - acc: 0.7687 - val_loss: 0.6037 - val_acc: 0.7338\n",
      "Epoch 133/150\n",
      "614/614 [==============================] - 1s 904us/step - loss: 0.4725 - acc: 0.7736 - val_loss: 0.6789 - val_acc: 0.6883\n",
      "Epoch 134/150\n",
      "614/614 [==============================] - 1s 843us/step - loss: 0.5128 - acc: 0.7590 - val_loss: 0.6024 - val_acc: 0.7532\n",
      "Epoch 135/150\n",
      "614/614 [==============================] - 1s 867us/step - loss: 0.5023 - acc: 0.7655 - val_loss: 0.6808 - val_acc: 0.6753\n",
      "Epoch 136/150\n",
      "614/614 [==============================] - 1s 856us/step - loss: 0.4895 - acc: 0.7427 - val_loss: 0.6253 - val_acc: 0.7208\n",
      "Epoch 137/150\n",
      "614/614 [==============================] - 1s 899us/step - loss: 0.4549 - acc: 0.7801 - val_loss: 0.6098 - val_acc: 0.7078\n",
      "Epoch 138/150\n",
      "614/614 [==============================] - 1s 821us/step - loss: 0.4610 - acc: 0.7687 - val_loss: 0.6335 - val_acc: 0.7273\n",
      "Epoch 139/150\n",
      "614/614 [==============================] - 1s 900us/step - loss: 0.5229 - acc: 0.7524 - val_loss: 0.6250 - val_acc: 0.7143\n",
      "Epoch 140/150\n",
      "614/614 [==============================] - 1s 915us/step - loss: 0.5159 - acc: 0.7622 - val_loss: 0.6095 - val_acc: 0.7143\n",
      "Epoch 141/150\n",
      "614/614 [==============================] - 1s 877us/step - loss: 0.4576 - acc: 0.7948 - val_loss: 0.6232 - val_acc: 0.7273\n",
      "Epoch 142/150\n",
      "614/614 [==============================] - 0s 785us/step - loss: 0.4600 - acc: 0.7736 - val_loss: 0.6242 - val_acc: 0.7273\n",
      "Epoch 143/150\n",
      "614/614 [==============================] - 1s 843us/step - loss: 0.4723 - acc: 0.7850 - val_loss: 0.6053 - val_acc: 0.7403\n",
      "Epoch 144/150\n",
      "614/614 [==============================] - 1s 821us/step - loss: 0.4564 - acc: 0.7736 - val_loss: 0.5887 - val_acc: 0.7532\n",
      "Epoch 145/150\n",
      "614/614 [==============================] - 1s 859us/step - loss: 0.4641 - acc: 0.7785 - val_loss: 0.6516 - val_acc: 0.7143\n",
      "Epoch 146/150\n",
      "614/614 [==============================] - 1s 848us/step - loss: 0.4513 - acc: 0.7932 - val_loss: 0.6015 - val_acc: 0.7403\n",
      "Epoch 147/150\n",
      "614/614 [==============================] - 1s 957us/step - loss: 0.4642 - acc: 0.7769 - val_loss: 0.6017 - val_acc: 0.7597\n",
      "Epoch 148/150\n",
      "614/614 [==============================] - 1s 1ms/step - loss: 0.4581 - acc: 0.7801 - val_loss: 0.6250 - val_acc: 0.7403\n",
      "Epoch 149/150\n",
      "614/614 [==============================] - 1s 853us/step - loss: 0.4767 - acc: 0.7736 - val_loss: 0.5998 - val_acc: 0.7338\n",
      "Epoch 150/150\n",
      "614/614 [==============================] - 1s 882us/step - loss: 0.4626 - acc: 0.7769 - val_loss: 0.6444 - val_acc: 0.7143\n"
     ]
    }
   ],
   "source": [
    "history = model.fit(X, Y, epochs=150, batch_size=10, validation_split=0.2)"
   ]
  },
  {
   "cell_type": "code",
   "execution_count": 8,
   "metadata": {},
   "outputs": [
    {
     "name": "stdout",
     "output_type": "stream",
     "text": [
      "768/768 [==============================] - 0s 41us/step\n",
      "\n",
      "acc: 73.57%\n"
     ]
    }
   ],
   "source": [
    "scores = model.evaluate(X, Y)\n",
    "print(\"\\n%s: %.2f%%\" % (model.metrics_names[1], scores[1]*100))"
   ]
  },
  {
   "cell_type": "markdown",
   "metadata": {},
   "source": [
    "### Recursos para Keras\n",
    "\n",
    "https://keras.io/losses/\n",
    "https://keras.io/metrics/"
   ]
  },
  {
   "cell_type": "code",
   "execution_count": 9,
   "metadata": {},
   "outputs": [
    {
     "name": "stdout",
     "output_type": "stream",
     "text": [
      "_________________________________________________________________\n",
      "Layer (type)                 Output Shape              Param #   \n",
      "=================================================================\n",
      "dense_1 (Dense)              (None, 32)                288       \n",
      "_________________________________________________________________\n",
      "dense_2 (Dense)              (None, 16)                528       \n",
      "_________________________________________________________________\n",
      "dense_3 (Dense)              (None, 1)                 17        \n",
      "=================================================================\n",
      "Total params: 833\n",
      "Trainable params: 833\n",
      "Non-trainable params: 0\n",
      "_________________________________________________________________\n"
     ]
    }
   ],
   "source": [
    "model.summary()"
   ]
  },
  {
   "cell_type": "code",
   "execution_count": 10,
   "metadata": {},
   "outputs": [
    {
     "data": {
      "text/plain": [
       "dict_keys(['val_loss', 'val_acc', 'loss', 'acc'])"
      ]
     },
     "execution_count": 10,
     "metadata": {},
     "output_type": "execute_result"
    }
   ],
   "source": [
    "history.history.keys()"
   ]
  },
  {
   "cell_type": "code",
   "execution_count": 11,
   "metadata": {},
   "outputs": [],
   "source": [
    "%matplotlib inline"
   ]
  },
  {
   "cell_type": "code",
   "execution_count": 12,
   "metadata": {},
   "outputs": [
    {
     "data": {
      "image/png": "[encoded data removed]",
      "text/plain": [
       "<Figure size 432x288 with 1 Axes>"
      ]
     },
     "metadata": {
      "needs_background": "light"
     },
     "output_type": "display_data"
    },
    {
     "data": {
      "image/png": "[encoded data removed]",
      "text/plain": [
       "<Figure size 432x288 with 1 Axes>"
      ]
     },
     "metadata": {
      "needs_background": "light"
     },
     "output_type": "display_data"
    }
   ],
   "source": [
    "plt.plot(history.history['acc'])\n",
    "plt.plot(history.history['val_acc'])\n",
    "plt.title('model accuracy')\n",
    "plt.ylabel('accuracy')\n",
    "plt.xlabel('epoch')\n",
    "plt.legend(['train','test'], loc='lower right')\n",
    "plt.show()\n",
    "\n",
    "plt.plot(history.history['loss'])\n",
    "plt.plot(history.history['val_loss'])\n",
    "plt.title('model loss')\n",
    "plt.ylabel('loss')\n",
    "plt.xlabel('epoch')\n",
    "plt.legend(['train','test'], loc='lower right')\n",
    "plt.show()"
   ]
  },
  {
   "cell_type": "markdown",
   "metadata": {},
   "source": [
    "<img src=\"https://i.stack.imgur.com/uDgke.gif\" width=\"100%\">"
   ]
  },
  {
   "cell_type": "markdown",
   "metadata": {},
   "source": [
    "## Visualización de datos"
   ]
  },
  {
   "cell_type": "code",
   "execution_count": 13,
   "metadata": {},
   "outputs": [],
   "source": [
    "import pandas as pd"
   ]
  },
  {
   "cell_type": "code",
   "execution_count": 14,
   "metadata": {},
   "outputs": [],
   "source": [
    "df = pd.read_csv(\"pima-indians-diabetes.csv\")"
   ]
  },
  {
   "cell_type": "code",
   "execution_count": 15,
   "metadata": {},
   "outputs": [
    {
     "data": {
      "text/html": [
       "<div>\n",
       "<style scoped>\n",
       "    .dataframe tbody tr th:only-of-type {\n",
       "        vertical-align: middle;\n",
       "    }\n",
       "\n",
       "    .dataframe tbody tr th {\n",
       "        vertical-align: top;\n",
       "    }\n",
       "\n",
       "    .dataframe thead th {\n",
       "        text-align: right;\n",
       "    }\n",
       "</style>\n",
       "<table border=\"1\" class=\"dataframe\">\n",
       "  <thead>\n",
       "    <tr style=\"text-align: right;\">\n",
       "      <th></th>\n",
       "      <th>6</th>\n",
       "      <th>148</th>\n",
       "      <th>72</th>\n",
       "      <th>35</th>\n",
       "      <th>0</th>\n",
       "      <th>33.6</th>\n",
       "      <th>0.627</th>\n",
       "      <th>50</th>\n",
       "      <th>1</th>\n",
       "    </tr>\n",
       "  </thead>\n",
       "  <tbody>\n",
       "    <tr>\n",
       "      <th>0</th>\n",
       "      <td>1</td>\n",
       "      <td>85</td>\n",
       "      <td>66</td>\n",
       "      <td>29</td>\n",
       "      <td>0</td>\n",
       "      <td>26.6</td>\n",
       "      <td>0.351</td>\n",
       "      <td>31</td>\n",
       "      <td>0</td>\n",
       "    </tr>\n",
       "    <tr>\n",
       "      <th>1</th>\n",
       "      <td>8</td>\n",
       "      <td>183</td>\n",
       "      <td>64</td>\n",
       "      <td>0</td>\n",
       "      <td>0</td>\n",
       "      <td>23.3</td>\n",
       "      <td>0.672</td>\n",
       "      <td>32</td>\n",
       "      <td>1</td>\n",
       "    </tr>\n",
       "    <tr>\n",
       "      <th>2</th>\n",
       "      <td>1</td>\n",
       "      <td>89</td>\n",
       "      <td>66</td>\n",
       "      <td>23</td>\n",
       "      <td>94</td>\n",
       "      <td>28.1</td>\n",
       "      <td>0.167</td>\n",
       "      <td>21</td>\n",
       "      <td>0</td>\n",
       "    </tr>\n",
       "    <tr>\n",
       "      <th>3</th>\n",
       "      <td>0</td>\n",
       "      <td>137</td>\n",
       "      <td>40</td>\n",
       "      <td>35</td>\n",
       "      <td>168</td>\n",
       "      <td>43.1</td>\n",
       "      <td>2.288</td>\n",
       "      <td>33</td>\n",
       "      <td>1</td>\n",
       "    </tr>\n",
       "    <tr>\n",
       "      <th>4</th>\n",
       "      <td>5</td>\n",
       "      <td>116</td>\n",
       "      <td>74</td>\n",
       "      <td>0</td>\n",
       "      <td>0</td>\n",
       "      <td>25.6</td>\n",
       "      <td>0.201</td>\n",
       "      <td>30</td>\n",
       "      <td>0</td>\n",
       "    </tr>\n",
       "  </tbody>\n",
       "</table>\n",
       "</div>"
      ],
      "text/plain": [
       "   6  148  72  35    0  33.6  0.627  50  1\n",
       "0  1   85  66  29    0  26.6  0.351  31  0\n",
       "1  8  183  64   0    0  23.3  0.672  32  1\n",
       "2  1   89  66  23   94  28.1  0.167  21  0\n",
       "3  0  137  40  35  168  43.1  2.288  33  1\n",
       "4  5  116  74   0    0  25.6  0.201  30  0"
      ]
     },
     "execution_count": 15,
     "metadata": {},
     "output_type": "execute_result"
    }
   ],
   "source": [
    "df.head()"
   ]
  },
  {
   "cell_type": "code",
   "execution_count": 16,
   "metadata": {},
   "outputs": [],
   "source": [
    "df = pd.read_csv(\"pima-indians-diabetes.csv\", names=[\"ntp\", \"pgc\", \"dbp\", \"tsf\", \"hsi\", \"bmi\", \"dpf\", \"age\", \"pos\"])"
   ]
  },
  {
   "cell_type": "code",
   "execution_count": 17,
   "metadata": {},
   "outputs": [
    {
     "data": {
      "text/html": [
       "<div>\n",
       "<style scoped>\n",
       "    .dataframe tbody tr th:only-of-type {\n",
       "        vertical-align: middle;\n",
       "    }\n",
       "\n",
       "    .dataframe tbody tr th {\n",
       "        vertical-align: top;\n",
       "    }\n",
       "\n",
       "    .dataframe thead th {\n",
       "        text-align: right;\n",
       "    }\n",
       "</style>\n",
       "<table border=\"1\" class=\"dataframe\">\n",
       "  <thead>\n",
       "    <tr style=\"text-align: right;\">\n",
       "      <th></th>\n",
       "      <th>ntp</th>\n",
       "      <th>pgc</th>\n",
       "      <th>dbp</th>\n",
       "      <th>tsf</th>\n",
       "      <th>hsi</th>\n",
       "      <th>bmi</th>\n",
       "      <th>dpf</th>\n",
       "      <th>age</th>\n",
       "      <th>pos</th>\n",
       "    </tr>\n",
       "  </thead>\n",
       "  <tbody>\n",
       "    <tr>\n",
       "      <th>0</th>\n",
       "      <td>6</td>\n",
       "      <td>148</td>\n",
       "      <td>72</td>\n",
       "      <td>35</td>\n",
       "      <td>0</td>\n",
       "      <td>33.6</td>\n",
       "      <td>0.627</td>\n",
       "      <td>50</td>\n",
       "      <td>1</td>\n",
       "    </tr>\n",
       "    <tr>\n",
       "      <th>1</th>\n",
       "      <td>1</td>\n",
       "      <td>85</td>\n",
       "      <td>66</td>\n",
       "      <td>29</td>\n",
       "      <td>0</td>\n",
       "      <td>26.6</td>\n",
       "      <td>0.351</td>\n",
       "      <td>31</td>\n",
       "      <td>0</td>\n",
       "    </tr>\n",
       "    <tr>\n",
       "      <th>2</th>\n",
       "      <td>8</td>\n",
       "      <td>183</td>\n",
       "      <td>64</td>\n",
       "      <td>0</td>\n",
       "      <td>0</td>\n",
       "      <td>23.3</td>\n",
       "      <td>0.672</td>\n",
       "      <td>32</td>\n",
       "      <td>1</td>\n",
       "    </tr>\n",
       "    <tr>\n",
       "      <th>3</th>\n",
       "      <td>1</td>\n",
       "      <td>89</td>\n",
       "      <td>66</td>\n",
       "      <td>23</td>\n",
       "      <td>94</td>\n",
       "      <td>28.1</td>\n",
       "      <td>0.167</td>\n",
       "      <td>21</td>\n",
       "      <td>0</td>\n",
       "    </tr>\n",
       "    <tr>\n",
       "      <th>4</th>\n",
       "      <td>0</td>\n",
       "      <td>137</td>\n",
       "      <td>40</td>\n",
       "      <td>35</td>\n",
       "      <td>168</td>\n",
       "      <td>43.1</td>\n",
       "      <td>2.288</td>\n",
       "      <td>33</td>\n",
       "      <td>1</td>\n",
       "    </tr>\n",
       "  </tbody>\n",
       "</table>\n",
       "</div>"
      ],
      "text/plain": [
       "   ntp  pgc  dbp  tsf  hsi   bmi    dpf  age  pos\n",
       "0    6  148   72   35    0  33.6  0.627   50    1\n",
       "1    1   85   66   29    0  26.6  0.351   31    0\n",
       "2    8  183   64    0    0  23.3  0.672   32    1\n",
       "3    1   89   66   23   94  28.1  0.167   21    0\n",
       "4    0  137   40   35  168  43.1  2.288   33    1"
      ]
     },
     "execution_count": 17,
     "metadata": {},
     "output_type": "execute_result"
    }
   ],
   "source": [
    "df.head()"
   ]
  }
 ],
 "metadata": {
  "kernelspec": {
   "display_name": "Python 3",
   "language": "python",
   "name": "python3"
  },
  "language_info": {
   "codemirror_mode": {
    "name": "ipython",
    "version": 3
   },
   "file_extension": ".py",
   "mimetype": "text/x-python",
   "name": "python",
   "nbconvert_exporter": "python",
   "pygments_lexer": "ipython3",
   "version": "3.6.8"
  }
 },
 "nbformat": 4,
 "nbformat_minor": 2
}
