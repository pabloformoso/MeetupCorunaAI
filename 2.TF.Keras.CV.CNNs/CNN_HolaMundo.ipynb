{
  "nbformat": 4,
  "nbformat_minor": 0,
  "metadata": {
    "colab": {
      "name": "CNN.HolaMundo",
      "version": "0.3.2",
      "provenance": [],
      "collapsed_sections": []
    },
    "kernelspec": {
      "name": "python3",
      "display_name": "Python 3"
    },
    "accelerator": "GPU"
  },
  "cells": [
    {
      "metadata": {
        "id": "R6gHiH-I7uFa",
        "colab_type": "text"
      },
      "cell_type": "markdown",
      "source": [
        "# Hola Mundo CNNs\n",
        "\n",
        "![CoruñaAI](https://github.com/pabloformoso/MeetupCorunaAI/blob/master/1.%20TF.Keras.Perceptron.CNN1/notebooks_img/coruai.gif)\n",
        "\n",
        "Hasta ahora trabajamos con Tensorflow usando unos pocos métodos de la API enfocados a operaciones. Si recordamos la filosofía de TF, este se puede entender como un motor que ejecuta un gráfico computacional que se ejecutaba dentro de una sesión.\n",
        "\n",
        "Para nuestro Perceptro el grafo resultante era similar al siguiente:\n",
        "\n",
        "![alt text](https://naml.us/paper/tensorflow/graph.svg)\n",
        "\n",
        "Al hacer correr nuestra la opreción C en la sesión de tensorflow, este ejecutará todas las operaciones necesarias para realizar la clasificación C. Gracias al playground\n",
        "\n",
        "Vamos a pararnos unos minutos en jugar con el Playground y ver como afecta la composición de una red y las entradas con los dos grandes problemas de ML:\n",
        "\n",
        "* Overfitting: De forma simple, podemos decir que una red hace overfitting cuando la red se ha ajustado tanto que no sería capaz de clasificar bien problemas fuera de la colección de entramiento. O lo que es lo mismo. En la colección de validación veremos que hay una diferencia muy grande en la precisión de los resultados. Normalmente indica in exceso capas en el modelo o la necesidad de más (o menos) caracteristicas\n",
        "\n",
        "* Underfitting: Lo contrario a Overfitting, el fit es tan pobre que la clasificación es muy pobre tanto en entretamiento como en validación.\n",
        "\n",
        "![alt text](https://cdn-images-1.medium.com/max/1200/1*cdvfzvpkJkUudDEryFtCnA.png)\n",
        "\n",
        "[Playground CNN](http://playground.tensorflow.org/#activation=relu&regularization=L2&batchSize=10&dataset=spiral&regDataset=reg-gauss&learningRate=0.03&regularizationRate=0.001&noise=0&networkShape=8&seed=0.76281&showTestData=false&discretize=false&percTrainData=70&x=true&y=true&xTimesY=false&xSquared=false&ySquared=false&cosX=false&sinX=false&cosY=false&sinY=false&collectStats=false&problem=classification&initZero=false&hideText=false)\n",
        "\n",
        "[ConvolutionalDeepBeliefNetworks](http://web.eecs.umich.edu/~honglak/icml09-ConvolutionalDeepBeliefNetworks.pdf)\n"
      ]
    },
    {
      "metadata": {
        "id": "cxPRUZhA2SqP",
        "colab_type": "text"
      },
      "cell_type": "markdown",
      "source": [
        "## La naturaleza de las CNNs\n",
        "\n",
        "Vamos indagar un poco en las CNN y por que la convulución nos ayuda en el procesamiento de imagenes. El modelo respresetnado en el diagrama está demostrado en diferentes papers que fuciona con una precisión relativamente aceptable en la mayoría de los casos.\n",
        "\n",
        "A nivel de capas encontramos:\n",
        "\n",
        "* Capa de entrada de datos. La imagen con los pixels normalizados en un vector único del tamaño px_alto * px_ancho.\n",
        "* Capas de convulución. Procesan y extraen la mayor información posible.\n",
        "* Capas de Pooling: Nos ayudan a simplificar los datos y focalizar en los relevanes.\n",
        "* Capas de DropOut: Eliminar caracteristicas poco relevantes.\n",
        "* Capas de normalización: Con imágenes, trabajando con este tipo de operaciones es facil acabar con números altos y se recomienda normalizar los datos tras la convolución.\n",
        "\n",
        "![alt text](https://www.jeremyjordan.me/content/images/2018/04/vgg16.png)\n",
        "\n",
        "### Convolución (la nueva revolución)\n",
        "\n",
        "Para enteder las convoluciones podemos partir la API que usaremos de TensorFlow.\n",
        "\n",
        "#### tf.keras.layers.Conv2D\n",
        "\n",
        "* filters: Número de filtros que se van a aplicar. \n",
        "* kernel_size: Tupla de la forma (N,M) para aplicar los filtros. Simplicado es al venta sobre la que se aplica el filtro\n",
        "* strides: Saltos a dar en el moviemiento de la ventana. \n",
        "* activation: función de activación que aplica tras la convolución. Los eficiente es utilizar una ReLU.\n",
        "\n",
        "![alt text](https://cdn-images-1.medium.com/max/1200/0*Asw1tDuRs3wTjwi7.gif)\n",
        "\n",
        "#### tf.keras.layers.MaxPooling2D\n",
        "\n",
        "* pool_size: tupla de dimension (N,M) para extraer el mayor valor y reducirlo.\n",
        "* strides: idem que en las Conv2D\n",
        "\n",
        "![alt text](https://computersciencewiki.org/images/8/8a/MaxpoolSample2.png)\n",
        "\n",
        "#### tf.keras.layers.Dropout\n",
        "\n",
        "* rate: Ratio para eliminar valores de forma random bajo el ratio. Estos valores se ponen a 0\n",
        "\n",
        "![alt text](https://cdn-images-1.medium.com/max/1600/0*mAtgnyEc6FbDlfEp.)\n"
      ]
    },
    {
      "metadata": {
        "id": "b1tJCsIH7RSR",
        "colab_type": "text"
      },
      "cell_type": "markdown",
      "source": [
        "# Sin CNNs\n",
        "\n",
        "Sin usar CNN con una red Densa y Plana. Vamos a utlizarla como línea base."
      ]
    },
    {
      "metadata": {
        "id": "xcsRtq9OLorS",
        "colab_type": "code",
        "outputId": "408d02d8-a5bc-4db7-c907-03630866b6a2",
        "colab": {
          "base_uri": "https://localhost:8080/",
          "height": 419
        }
      },
      "cell_type": "code",
      "source": [
        "import tensorflow as tf\n",
        "\n",
        "mnist = tf.keras.datasets.fashion_mnist\n",
        "(training_images, training_labels), (test_images, test_labels) = mnist.load_data()\n",
        "training_images=training_images / 255.0\n",
        "test_images=test_images / 255.0\n",
        "\n",
        "model = tf.keras.models.Sequential([\n",
        "  tf.keras.layers.Flatten(),\n",
        "  tf.keras.layers.Dense(128, activation=tf.nn.relu),\n",
        "  tf.keras.layers.Dense(10, activation=tf.nn.softmax)\n",
        "])\n",
        "model.compile(optimizer='adam', loss='sparse_categorical_crossentropy', metrics=['accuracy'])\n",
        "model.fit(training_images, training_labels, epochs=5)\n",
        "\n",
        "test_loss = model.evaluate(test_images, test_labels)"
      ],
      "execution_count": 1,
      "outputs": [
        {
          "output_type": "stream",
          "text": [
            "Downloading data from https://storage.googleapis.com/tensorflow/tf-keras-datasets/train-labels-idx1-ubyte.gz\n",
            "32768/29515 [=================================] - 0s 0us/step\n",
            "Downloading data from https://storage.googleapis.com/tensorflow/tf-keras-datasets/train-images-idx3-ubyte.gz\n",
            "26427392/26421880 [==============================] - 0s 0us/step\n",
            "Downloading data from https://storage.googleapis.com/tensorflow/tf-keras-datasets/t10k-labels-idx1-ubyte.gz\n",
            "8192/5148 [===============================================] - 0s 0us/step\n",
            "Downloading data from https://storage.googleapis.com/tensorflow/tf-keras-datasets/t10k-images-idx3-ubyte.gz\n",
            "4423680/4422102 [==============================] - 0s 0us/step\n",
            "WARNING:tensorflow:From /usr/local/lib/python3.6/dist-packages/tensorflow/python/ops/resource_variable_ops.py:435: colocate_with (from tensorflow.python.framework.ops) is deprecated and will be removed in a future version.\n",
            "Instructions for updating:\n",
            "Colocations handled automatically by placer.\n",
            "Epoch 1/5\n",
            "60000/60000 [==============================] - 8s 132us/sample - loss: 0.4987 - acc: 0.8258\n",
            "Epoch 2/5\n",
            "60000/60000 [==============================] - 7s 118us/sample - loss: 0.3770 - acc: 0.8644\n",
            "Epoch 3/5\n",
            "60000/60000 [==============================] - 7s 118us/sample - loss: 0.3350 - acc: 0.8792\n",
            "Epoch 4/5\n",
            "60000/60000 [==============================] - 7s 118us/sample - loss: 0.3129 - acc: 0.8862\n",
            "Epoch 5/5\n",
            "60000/60000 [==============================] - 7s 118us/sample - loss: 0.2951 - acc: 0.8910\n",
            "10000/10000 [==============================] - 1s 69us/sample - loss: 0.3393 - acc: 0.8781\n"
          ],
          "name": "stdout"
        }
      ]
    },
    {
      "metadata": {
        "id": "zldEXSsF8Noz",
        "colab_type": "text"
      },
      "cell_type": "markdown",
      "source": [
        "# Primera CNN\n",
        "\n",
        "Aplicamos un modelo sencillo de dos capasa de 64, nuestro grafó de computación sería similar a:\n",
        "\n",
        "- Entrada normalizada\n",
        "- Convolución 1 (64 filtros)\n",
        "- Maxpooling 1 \n",
        "- Convolución 2 (64 filtros)\n",
        "- Maxpooling 2\n",
        "- Unrolling a una capa plana\n",
        "- Clasificador, capa densa (128)\n",
        "- Salida (10)\n",
        "\n",
        "Como optimizadores usaremos Adam y como función de coste entropia cruzada para clasificación (categorical).\n"
      ]
    },
    {
      "metadata": {
        "id": "C0tFgT1MMKi6",
        "colab_type": "code",
        "outputId": "a692541d-0caa-433d-dd5b-5c0e55aae8c6",
        "colab": {
          "base_uri": "https://localhost:8080/",
          "height": 590
        }
      },
      "cell_type": "code",
      "source": [
        "import tensorflow as tf\n",
        "print(tf.__version__)\n",
        "mnist = tf.keras.datasets.fashion_mnist\n",
        "(training_images, training_labels), (test_images, test_labels) = mnist.load_data()\n",
        "training_images=training_images.reshape(60000, 28, 28, 1)\n",
        "training_images=training_images / 255.0\n",
        "test_images = test_images.reshape(10000, 28, 28, 1)\n",
        "test_images=test_images/255.0\n",
        "model = tf.keras.models.Sequential([\n",
        "  tf.keras.layers.Conv2D(64, (3,3), activation='relu', input_shape=(28, 28, 1)),\n",
        "  tf.keras.layers.MaxPooling2D(2, 2),\n",
        "  tf.keras.layers.Conv2D(64, (3,3), activation='relu'),\n",
        "  tf.keras.layers.MaxPooling2D(2,2),\n",
        "  tf.keras.layers.Flatten(),\n",
        "  tf.keras.layers.Dense(128, activation='relu'),\n",
        "  tf.keras.layers.Dense(10, activation='softmax')\n",
        "])\n",
        "model.compile(optimizer='adam', loss='sparse_categorical_crossentropy', metrics=['accuracy'])\n",
        "model.summary()\n",
        "model.fit(training_images, training_labels, epochs=5)\n",
        "test_loss = model.evaluate(test_images, test_labels)\n"
      ],
      "execution_count": 2,
      "outputs": [
        {
          "output_type": "stream",
          "text": [
            "1.13.1\n",
            "_________________________________________________________________\n",
            "Layer (type)                 Output Shape              Param #   \n",
            "=================================================================\n",
            "conv2d (Conv2D)              (None, 26, 26, 64)        640       \n",
            "_________________________________________________________________\n",
            "max_pooling2d (MaxPooling2D) (None, 13, 13, 64)        0         \n",
            "_________________________________________________________________\n",
            "conv2d_1 (Conv2D)            (None, 11, 11, 64)        36928     \n",
            "_________________________________________________________________\n",
            "max_pooling2d_1 (MaxPooling2 (None, 5, 5, 64)          0         \n",
            "_________________________________________________________________\n",
            "flatten_1 (Flatten)          (None, 1600)              0         \n",
            "_________________________________________________________________\n",
            "dense_2 (Dense)              (None, 128)               204928    \n",
            "_________________________________________________________________\n",
            "dense_3 (Dense)              (None, 10)                1290      \n",
            "=================================================================\n",
            "Total params: 243,786\n",
            "Trainable params: 243,786\n",
            "Non-trainable params: 0\n",
            "_________________________________________________________________\n",
            "Epoch 1/5\n",
            "60000/60000 [==============================] - 16s 275us/sample - loss: 0.4429 - acc: 0.8393\n",
            "Epoch 2/5\n",
            "60000/60000 [==============================] - 14s 240us/sample - loss: 0.3029 - acc: 0.8891\n",
            "Epoch 3/5\n",
            "60000/60000 [==============================] - 14s 240us/sample - loss: 0.2577 - acc: 0.9040\n",
            "Epoch 4/5\n",
            "60000/60000 [==============================] - 14s 239us/sample - loss: 0.2240 - acc: 0.9170\n",
            "Epoch 5/5\n",
            "60000/60000 [==============================] - 14s 239us/sample - loss: 0.1974 - acc: 0.9262\n",
            "10000/10000 [==============================] - 1s 106us/sample - loss: 0.2571 - acc: 0.9049\n"
          ],
          "name": "stdout"
        }
      ]
    },
    {
      "metadata": {
        "id": "IXx_LX3SAlFs",
        "colab_type": "text"
      },
      "cell_type": "markdown",
      "source": [
        "# Echando un ojo por dentro\n",
        "\n"
      ]
    },
    {
      "metadata": {
        "id": "f-6nX4QsOku6",
        "colab_type": "code",
        "outputId": "96e63e93-d4e9-4d54-bf28-c6d3e4f9230e",
        "colab": {
          "base_uri": "https://localhost:8080/",
          "height": 69
        }
      },
      "cell_type": "code",
      "source": [
        "print(test_labels[:100])"
      ],
      "execution_count": 3,
      "outputs": [
        {
          "output_type": "stream",
          "text": [
            "[9 2 1 1 6 1 4 6 5 7 4 5 7 3 4 1 2 4 8 0 2 5 7 9 1 4 6 0 9 3 8 8 3 3 8 0 7\n",
            " 5 7 9 6 1 3 7 6 7 2 1 2 2 4 4 5 8 2 2 8 4 8 0 7 7 8 5 1 1 2 3 9 8 7 0 2 6\n",
            " 2 3 1 2 8 4 1 8 5 9 5 0 3 2 0 6 5 3 6 7 1 8 0 1 4 2]\n"
          ],
          "name": "stdout"
        }
      ]
    },
    {
      "metadata": {
        "id": "9FGsHhv6JvDx",
        "colab_type": "code",
        "outputId": "f8d6db1d-c701-43b4-a8dd-2d2ee087f048",
        "colab": {
          "base_uri": "https://localhost:8080/",
          "height": 349
        }
      },
      "cell_type": "code",
      "source": [
        "import matplotlib.pyplot as plt\n",
        "f, axarr = plt.subplots(3,4)\n",
        "\n",
        "FIRST_IMAGE=0\n",
        "SECOND_IMAGE=7\n",
        "THIRD_IMAGE=26\n",
        "CONVOLUTION_NUMBER = 1\n",
        "\n",
        "from tensorflow.keras import models\n",
        "\n",
        "layer_outputs = [layer.output for layer in model.layers]\n",
        "activation_model = tf.keras.models.Model(inputs = model.input, outputs = layer_outputs)\n",
        "\n",
        "for x in range(0,4):\n",
        "  f1 = activation_model.predict(test_images[FIRST_IMAGE].reshape(1, 28, 28, 1))[x]\n",
        "  axarr[0,x].imshow(f1[0, : , :, CONVOLUTION_NUMBER], cmap='inferno')\n",
        "  axarr[0,x].grid(False)\n",
        "  f2 = activation_model.predict(test_images[SECOND_IMAGE].reshape(1, 28, 28, 1))[x]\n",
        "  axarr[1,x].imshow(f2[0, : , :, CONVOLUTION_NUMBER], cmap='inferno')\n",
        "  axarr[1,x].grid(False)\n",
        "  f3 = activation_model.predict(test_images[THIRD_IMAGE].reshape(1, 28, 28, 1))[x]\n",
        "  axarr[2,x].imshow(f3[0, : , :, CONVOLUTION_NUMBER], cmap='inferno')\n",
        "  axarr[2,x].grid(False)"
      ],
      "execution_count": 4,
      "outputs": [
        {
          "output_type": "display_data",
          "data": {
            "image/png": "[encoded data removed]",
            "text/plain": [
              "<Figure size 576x396 with 12 Axes>"
            ]
          },
          "metadata": {
            "tags": []
          }
        }
      ]
    },
    {
      "metadata": {
        "id": "8KVPZqgHo5Ux",
        "colab_type": "text"
      },
      "cell_type": "markdown",
      "source": [
        "## Trastear!!!! "
      ]
    },
    {
      "metadata": {
        "id": "ZpYRidBXpBPM",
        "colab_type": "code",
        "colab": {}
      },
      "cell_type": "code",
      "source": [
        "import tensorflow as tf\n",
        "print(tf.__version__)\n",
        "\n",
        "mnist = tf.keras.datasets.mnist\n",
        "(training_images, training_labels), (test_images, test_labels) = mnist.load_data()\n",
        "training_images=training_images.reshape(60000, 28, 28, 1)\n",
        "training_images=training_images / 255.0\n",
        "test_images = test_images.reshape(10000, 28, 28, 1)\n",
        "test_images=test_images/255.0\n",
        "model = tf.keras.models.Sequential([\n",
        "\n",
        "])\n",
        "model.compile(optimizer='adam', loss='sparse_categorical_crossentropy', metrics=['accuracy'])\n",
        "model.fit(training_images, training_labels, epochs=10)\n",
        "test_loss, test_acc = model.evaluate(test_images, test_labels)\n",
        "print(test_acc)"
      ],
      "execution_count": 0,
      "outputs": []
    }
  ]
}