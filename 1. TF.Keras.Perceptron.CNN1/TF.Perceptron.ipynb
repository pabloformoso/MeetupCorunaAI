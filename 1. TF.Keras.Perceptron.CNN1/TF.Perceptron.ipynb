{
 "cells": [
  {
   "cell_type": "markdown",
   "metadata": {},
   "source": [
    "<img src=\"./notebooks_img/coruai.gif\">\n",
    "  \n",
    "## Perceptrón\n",
    "\n",
    "El modelo biológico más simple de un perceptrón es una neurona y viceversa. Es decir, el modelo matemático más simple de una neurona es un perceptrón. La neurona es una célula especializada y caracterizada por poseer una cantidad indefinida de canales de entrada llamados dendritas y un canal de salida llamado axón. Las dendritas operan como sensores que recogen información de la región donde se hallan y la derivan hacia el cuerpo de la neurona que reacciona mediante una sinapsis que envía una respuesta hacia el cerebro, esto en el caso de los seres vivos.\n",
    "\n",
    "Una neurona sola y aislada carece de razón de ser. Su labor especializada se torna valiosa en la medida en que se asocia a otras neuronas, formando una red. Normalmente, el axón de una neurona entrega su información como \"señal de entrada\" a una dendrita de otra neurona y así sucesivamente. El perceptrón que capta la señal en adelante se extiende formando una red de neuronas, sean éstas biológicas o de sustrato semiconductor (compuertas lógicas).\n",
    "\n",
    "El perceptrón usa una matriz para representar las redes neuronales y es un discriminador terciario. \n",
    "\n",
    "<img src=\"http://cs231n.github.io/assets/nn1/neuron.png\" width=480>\n",
    "\n",
    "La imagen de la neurona biológica tiene su análoga digital.\n",
    "\n",
    "<img src=\"http://cs231n.github.io/assets/nn1/neuron_model.jpeg\" width=480>\n",
    "\n",
    "<a href=\"https://es.wikipedia.org/wiki/Perceptr%C3%B3n\">Wikepedia</a> - <a href=\"http://cs231n.github.io/neural-networks-1/\">Standford class CS231m</a>"
   ]
  },
  {
   "cell_type": "markdown",
   "metadata": {},
   "source": [
    "## Perceptro \"a pelo\"\n",
    "\n",
    "En esta primera parte no vamos a usar TF. Vamos veremos las partes importantes a la hora de construir el modelo más básico posible. \n",
    "\n",
    "- Importar liberías\n",
    "- Crear la parametrización del modelo\n",
    "- Preparar los datos de entrada\n",
    "- Implementar la forma del modelo\n",
    "- Iterar\n",
    "- Analizar resultados"
   ]
  },
  {
   "cell_type": "markdown",
   "metadata": {},
   "source": [
    "Con Numpy tendremos más que suficiente para hacer las operaciones básicas del perceptrón que tenemos en el diseño de arriba."
   ]
  },
  {
   "cell_type": "code",
   "execution_count": 20,
   "metadata": {},
   "outputs": [],
   "source": [
    "import numpy as np\n",
    "import tensorflow as tf\n",
    "import matplotlib.pyplot as plt"
   ]
  },
  {
   "cell_type": "markdown",
   "metadata": {},
   "source": [
    "### Configuración del modelo\n",
    "\n",
    "La parametrización del modelo se suele descomponer entre parametros principales o de definición, que afectan al funcionamiento básico de una RNA. \n",
    "\n",
    "Además de los parámetros \"macro\", exista otra parte denominada hyper-parametrización. Esta responde a volares como el ratio de aprendizaje, optimizadores etc..."
   ]
  },
  {
   "cell_type": "code",
   "execution_count": 22,
   "metadata": {},
   "outputs": [],
   "source": [
    "NUM_FEATURES = 2\n",
    "NUM_ITER = 2000\n",
    "LR = 0.01"
   ]
  },
  {
   "cell_type": "markdown",
   "metadata": {},
   "source": [
    "Para el perceptron crearemos dos entradas mínimas, representadas en la matriz X. En este caso tendríamos:\n",
    "\n",
    "- Para x0 el peso incial sería W0*x0 ... Wi*xi\n",
    "\n",
    "La y representa la salida esperada para un AND lógico. Donde para todos los valores tenemos 0, menos para x3 que la salida espera es 1."
   ]
  },
  {
   "cell_type": "code",
   "execution_count": 23,
   "metadata": {},
   "outputs": [],
   "source": [
    "x = np.array([[0,0],[1,0],[1,1],[0,1]], np.float32)\n",
    "y = np.array([0,0,1,0], np.float32) # AND"
   ]
  },
  {
   "cell_type": "markdown",
   "metadata": {},
   "source": [
    "Para acceder a un valor de x en Python, recordamos la nomeclatura [file,columna] donde : saca todos los elementos."
   ]
  },
  {
   "cell_type": "code",
   "execution_count": 24,
   "metadata": {},
   "outputs": [
    {
     "data": {
      "text/plain": [
       "array([1., 0.], dtype=float32)"
      ]
     },
     "execution_count": 24,
     "metadata": {},
     "output_type": "execute_result"
    }
   ],
   "source": [
    "x[1, :]"
   ]
  },
  {
   "cell_type": "markdown",
   "metadata": {},
   "source": [
    "Creamo los pesos y el sesgo (bias). Partimos de 0 conocimiento por lo que W es un array que recoge los pesos para cada una de las entras (features). \n",
    "\n",
    "x tiene la forma 4x2 y W 2x1. Tenemos que respetar siempre las particularidades de operar con matrices y vectores. Si decimos que la forma de la entrada x es 4x2, esto quiere decir que tenemos 4 ejemplo (samples) con dos caracteristicas (FEATURES). Los pesos (W) de enreada tiene la forma NUM_FEATURESx1."
   ]
  },
  {
   "cell_type": "code",
   "execution_count": 27,
   "metadata": {},
   "outputs": [],
   "source": [
    "W = np.zeros(NUM_FEATURES, np.float32)\n",
    "b = np.zeros(1, np.float32)"
   ]
  },
  {
   "cell_type": "markdown",
   "metadata": {},
   "source": [
    "Es normal extraer los datos del propio set de entrada"
   ]
  },
  {
   "cell_type": "code",
   "execution_count": 30,
   "metadata": {},
   "outputs": [
    {
     "name": "stdout",
     "output_type": "stream",
     "text": [
      "N samples:  4\n",
      "d features:  2\n"
     ]
    }
   ],
   "source": [
    "N, d = np.shape(x)\n",
    "print(\"N samples: \", N)\n",
    "print(\"d features: \", d)"
   ]
  },
  {
   "cell_type": "markdown",
   "metadata": {},
   "source": [
    "Por último, entrando en la chicha de una neurona, en el paso hacia adelante hacemos el cálculo. Como salida tenemos y^ (yHat). En este caso estamos usando como función de activación la función sigmoidea.\n",
    "\n",
    "<img src=\"https://upload.wikimedia.org/wikipedia/commons/thumb/8/88/Logistic-curve.svg/2560px-Logistic-curve.svg.png\" width=320>\n",
    "\n",
    "La funcion matemática que representa la curva sigmoide es:\n",
    "\n",
    "<img src=\"https://wikimedia.org/api/rest_v1/media/math/render/svg/b9db8cd0955e7898d6556581941581e3c7522f51\">\n",
    "\n",
    "Al final des este notebook veremos algunas funciones más como la tangencial, ReLU o maxmins entre otras. Otro punto imporante y que se difumina un poco en un perceptron es la función de coste u optimizador. En este caso partimos del diferencial entre el resultado obtenido y el esperado para hacer las derivadas parciales de la proppia función sigmoide.\n",
    "\n",
    "Recordemos que hacia una neurona:\n",
    "<img src=\"http://cs231n.github.io/assets/nn1/neuron_model.jpeg\" width=320>\n"
   ]
  },
  {
   "cell_type": "code",
   "execution_count": 31,
   "metadata": {},
   "outputs": [],
   "source": [
    "for k in range(NUM_ITER):\n",
    "    for j in range(N):\n",
    "        yHj = x[j, :].dot(W) + b\n",
    "        yHj = 1.0 / (1.0 + np.exp(-yHj))\n",
    "        \n",
    "        err = y[j] - yHj\n",
    "        dW = err * x[j,:]\n",
    "        db = err\n",
    "        \n",
    "        W = W + (LR * dW)\n",
    "        b = b + (LR * db)"
   ]
  },
  {
   "cell_type": "markdown",
   "metadata": {},
   "source": [
    "En la primera parte yHj es la yH para un determinado valor de los samples. Cada iteración se calcula para cada W los nuevos pesos en al vueltra atrás (backpropagation). En este paso, es donde aprendemos a razón del ratio fijado con el LR. El ratio de aprendizaje (LR) es uno de los valores más relevantes en redes sencillas.\n",
    "\n",
    "El LR se suele setear en valores de 0.01 en redes pequeñas y de 0.001 en más grandes. No hay una norma escrita; si lo queremos ver de una forma sencilla, el LR nos ayuda, a que matemáticamente, la función de activación se estabilice en un mismo punto.\n",
    "\n",
    "<img src=\"https://www.jeremyjordan.me/content/images/2018/02/Screen-Shot-2018-02-24-at-11.47.09-AM.png\">\n",
    "\n",
    "Los graficos arriba recogen de forma sencilla, el LR para un caso bidimensional (NUM_FEATURES = 2)."
   ]
  },
  {
   "cell_type": "code",
   "execution_count": 8,
   "metadata": {},
   "outputs": [],
   "source": [
    "plotx = np.array([np.min(x[:, 0] - 0.2), np.max(x[:, 1] + 0.2)])\n",
    "ploty = - 1 / W[1] * (W[0] * plotx + b)"
   ]
  },
  {
   "cell_type": "code",
   "execution_count": 9,
   "metadata": {},
   "outputs": [
    {
     "name": "stdout",
     "output_type": "stream",
     "text": [
      "W: [2.69495   2.6909127]\n",
      "b: [-4.268221]\n",
      "ploty: [1.7864611 0.3843605]\n"
     ]
    }
   ],
   "source": [
    "print('W: ' + str(W))\n",
    "print('b: ' + str(b))\n",
    "print('ploty: ' + str(ploty))"
   ]
  },
  {
   "cell_type": "code",
   "execution_count": 10,
   "metadata": {},
   "outputs": [
    {
     "data": {
      "image/png": "[encoded data removed]",
      "text/plain": [
       "<Figure size 432x288 with 1 Axes>"
      ]
     },
     "metadata": {
      "needs_background": "light"
     },
     "output_type": "display_data"
    }
   ],
   "source": [
    "plt.scatter(x[:,0],x[:,1], c=y, s=100, cmap='viridis')\n",
    "plt.plot(plotx, ploty, color='k', linewidth=2)\n",
    "plt.xlim([-0.2, 1.2])\n",
    "plt.ylim([-0.2, 1.2])\n",
    "plt.show()"
   ]
  },
  {
   "cell_type": "markdown",
   "metadata": {},
   "source": [
    "## El mismo, pero con TF\n",
    "\n",
    "Ahora vamos a crear el mismo perceptron aprovechando que ya lo conocemos, para familiarizarnos con la nomeclatura de TensorFlow.\n",
    "\n",
    "En el camino hablaremos de:\n",
    "\n",
    "* Placeholders\n",
    "* Variables (si, otro tipo variables más... nadie dijo que TF fuese sencillo)\n",
    "* Sesiones\n",
    "* Inicializadores\n",
    "* so for so on"
   ]
  },
  {
   "cell_type": "code",
   "execution_count": 11,
   "metadata": {},
   "outputs": [],
   "source": [
    "# X e y nos valen de la parte superior. A y le tenemos que aplicar una pequeña modificación.\n",
    "x = np.array([[0, 0], [1, 0], [1, 1], [0, 1]], np.float32) # 4x2\n",
    "y = np.array([0, 0, 1, 0], np.float32) # 4\n",
    "y = np.reshape(y, [4,1]) "
   ]
  },
  {
   "cell_type": "markdown",
   "metadata": {},
   "source": [
    "En tensorflow tenemos que crear un place holder incial para pasar los valores de X e y"
   ]
  },
  {
   "cell_type": "code",
   "execution_count": 12,
   "metadata": {},
   "outputs": [],
   "source": [
    "X = tf.placeholder(tf.float32, shape=[4,2])\n",
    "Y = tf.placeholder(tf.float32, shape=[4,1])"
   ]
  },
  {
   "cell_type": "code",
   "execution_count": 13,
   "metadata": {},
   "outputs": [],
   "source": [
    "W = tf.Variable(tf.zeros([NUM_FEATURES, 1]), tf.float32)\n",
    "B = tf.Variable(tf.zeros([1, 1]), tf.float32)"
   ]
  },
  {
   "cell_type": "code",
   "execution_count": 14,
   "metadata": {},
   "outputs": [],
   "source": [
    "yH = tf.sigmoid( tf.add( tf.matmul(X, W), B) )\n",
    "err = Y - yH\n",
    "\n",
    "dW = tf.matmul( tf.transpose(X), err)\n",
    "dB = tf.reduce_sum(err, 0)\n",
    "\n",
    "_W = W + LR * dW\n",
    "_B = B + LR * dB"
   ]
  },
  {
   "cell_type": "code",
   "execution_count": 15,
   "metadata": {},
   "outputs": [],
   "source": [
    "step = tf.group(W.assign(_W), B.assign(_B)) # actualiza pesos"
   ]
  },
  {
   "cell_type": "code",
   "execution_count": 16,
   "metadata": {},
   "outputs": [],
   "source": [
    "sess = tf.Session()\n",
    "init = tf.global_variables_initializer()\n",
    "sess.run(init)"
   ]
  },
  {
   "cell_type": "code",
   "execution_count": 17,
   "metadata": {},
   "outputs": [],
   "source": [
    "for k in range(NUM_ITER):\n",
    "    sess.run([step], feed_dict={X: x, Y: y})"
   ]
  },
  {
   "cell_type": "code",
   "execution_count": 18,
   "metadata": {},
   "outputs": [
    {
     "name": "stdout",
     "output_type": "stream",
     "text": [
      "W: [2.6895783 2.6895783]\n",
      "b: -4.26431\n",
      "y: [[0.]\n",
      " [0.]\n",
      " [1.]\n",
      " [0.]]\n"
     ]
    },
    {
     "data": {
      "image/png": "[encoded data removed]",
      "text/plain": [
       "<Figure size 432x288 with 1 Axes>"
      ]
     },
     "metadata": {
      "needs_background": "light"
     },
     "output_type": "display_data"
    }
   ],
   "source": [
    "W = np.squeeze(sess.run(W))\n",
    "b = np.squeeze(sess.run(B))\n",
    "\n",
    "# Now plot the fitted line. We need only two points to plot the line\n",
    "plot_x = np.array([np.min(x[:, 0] - 0.2), np.max(x[:, 1]+0.2)])\n",
    "plot_y = - 1 / W[1] * (W[0] * plot_x + b)\n",
    "plot_y = np.reshape(plot_y, [2, -1])\n",
    "plot_y = np.squeeze(plot_y)\n",
    "\n",
    "print('W: ' + str(W))\n",
    "print('b: ' + str(b))\n",
    "\n",
    "y = np.reshape(y, [4]) \n",
    "\n",
    "plt.scatter(x[:, 0], x[:, 1], c=y, s=100, cmap='viridis')\n",
    "plt.plot(plot_x, plot_y, color='k', linewidth=2)\n",
    "plt.xlim([-0.2, 1.2]) \n",
    "plt.ylim([-0.2, 1.2])\n",
    "plt.show()"
   ]
  }
 ],
 "metadata": {
  "kernelspec": {
   "display_name": "Python 3",
   "language": "python",
   "name": "python3"
  },
  "language_info": {
   "codemirror_mode": {
    "name": "ipython",
    "version": 3
   },
   "file_extension": ".py",
   "mimetype": "text/x-python",
   "name": "python",
   "nbconvert_exporter": "python",
   "pygments_lexer": "ipython3",
   "version": "3.6.8"
  }
 },
 "nbformat": 4,
 "nbformat_minor": 2
}
