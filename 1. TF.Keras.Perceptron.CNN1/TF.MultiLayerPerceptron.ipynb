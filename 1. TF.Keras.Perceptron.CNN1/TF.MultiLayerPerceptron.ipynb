{
 "cells": [
  {
   "cell_type": "markdown",
   "metadata": {},
   "source": [
    "<img src=\"./notebooks_img/coruai.gif\">\n",
    "\n",
    "## Perceptron multi-capa\n",
    "\n",
    "En el perceptron simple, somo capaces de diferencias las dos variables de forma independiente. Sin embargo, el hecho de tener la clasificiación basada en una sola capa (entrada y salida) no nos permite hacer una operación como el XOR.\n",
    "\n",
    "XOR como puerta lógica, devuelve 1 cuando ambos valores son distintos:\n",
    "    \n",
    "    x0=0  x0=0  y0=0\n",
    "    x1=1  x1=0  y1=1\n",
    "    x2=0  x2=1  y1=1\n",
    "    x3=1  x3=1  y1=0\n",
    "    \n",
    "Esta distribución, una unica capa no nos deja separa los casos. Si los vemos colocados en una gráfica, vemos rápidamente que no es posible con una sola línea. Esa capacidad la conseguimos agregando una primera capa interna.\n",
    "\n",
    "<img src=\"https://nasirml.files.wordpress.com/2017/11/xor_11.png\" width=240>\n",
    "\n",
    "Más adelante veremos como definir esta mini red. Como siempre empezaremos por importar las librerías que nos hacen falta."
   ]
  },
  {
   "cell_type": "code",
   "execution_count": 1,
   "metadata": {},
   "outputs": [],
   "source": [
    "import numpy as np\n",
    "import tensorflow as tf\n",
    "import matplotlib.pyplot as plt\n",
    "\n",
    "### Workaround por un bug/conflicto entre la versión de matplot lib y OSX con clang-omp.\n",
    "import os\n",
    "os.environ['KMP_DUPLICATE_LIB_OK']='True'"
   ]
  },
  {
   "cell_type": "markdown",
   "metadata": {},
   "source": [
    "De la misma forma que hicimos con el perceptron creamos la parametrización e hyper-parametrización de la red.\n",
    "\n",
    "- num_features: entradas de la red. Configura la capa de entrada.\n",
    "- num_iter: iteraciónes a realizar por la red\n",
    "- learning_rate: ratio de aprendizaje para la red, empezamos con el standard 0.01\n",
    "- num_input: neuronas en al capa de entrada\n",
    "- num_hidden: neuronas en la capa oculta 1\n",
    "- num_output: neuronas de salida\n",
    "\n",
    "<img src=\"https://nasirml.files.wordpress.com/2017/12/xor_2.png\" width=320>\n",
    "\n",
    "El perceptron simple, usa la capa de entrada y salida en la misma neurona."
   ]
  },
  {
   "cell_type": "code",
   "execution_count": 2,
   "metadata": {},
   "outputs": [],
   "source": [
    "num_features = 2\n",
    "num_iter = 10000\n",
    "display_step = int(num_iter / 10)\n",
    "learning_rate = 0.01\n",
    "\n",
    "num_input = 2          \n",
    "num_hidden1 = 2        \n",
    "num_output = 1         "
   ]
  },
  {
   "cell_type": "markdown",
   "metadata": {},
   "source": [
    "Siguiendo la lógica del ejemplo anterior, pasamos a crear los datos de entrada y la salida esperada. Para TF todo es tratado como tensores (vectores multidimensionales), es por eso que la salida esperada tenemos que redimensionarla a un tensor (4x1).\n",
    "\n",
    "Ha diferencia del AND del perceptron, la y en este caso es 1 paro los casos lógicos de una XOR."
   ]
  },
  {
   "cell_type": "code",
   "execution_count": 3,
   "metadata": {},
   "outputs": [],
   "source": [
    "x = np.array([[0, 0], [0, 1], [1, 0], [1, 1]], np.float32)  # 4x2\n",
    "y = np.array([0, 1, 1, 0], np.float32)                      # 4 a pelo esto nos funcionabia\n",
    "y = np.reshape(y, [4,1])                                    # 4x1 para TF"
   ]
  },
  {
   "cell_type": "markdown",
   "metadata": {},
   "source": [
    "Una vez más toca usar la API de TF. Recordemos que los placeholders son Variables que no tienen por que ser incializadas en el mismo momento, pero se reserva su espacio; las Variables en si, requiren inicialición en el mismo momento de crearse.\n",
    "\n",
    "- X: representa los datos de entrada. Lo marcamos como placeholder ya que no se va a incializar hasta que se realice la asignación de variables.\n",
    "- Y: representa la \"etiquetas\" 1|0 como salida de la red.\n",
    "- weights: para los pesos se ha usado la notación implicita que permite TF (útil también para exportar pesos). En este caso, X cubre la entrada y solo necesitamos resevar espacio de Variable para los pesos de la primera capa y para la salida.\n",
    "- biases: lo mismo que los pesos aplica a los segos, con la diferencia que que la dimensionlidad es 1. Recordemos que los sesgos se aplican como una entrada más a la red en cada capa.\n"
   ]
  },
  {
   "cell_type": "code",
   "execution_count": 4,
   "metadata": {},
   "outputs": [],
   "source": [
    "X = tf.placeholder('float', [None, num_input]) \n",
    "Y = tf.placeholder('float', [None, num_output])    \n",
    "\n",
    "# weights and biases\n",
    "weights = {\n",
    "    'w_h1' : tf.Variable(tf.random_normal([num_input, num_hidden1])), \n",
    "    'w_out': tf.Variable(tf.random_normal([num_hidden1, num_output]))\n",
    "}\n",
    "\n",
    "biases = {\n",
    "    'b_h1' : tf.Variable(tf.zeros([num_hidden1])),\n",
    "    'b_out': tf.Variable(tf.zeros([num_output]))\n",
    "}"
   ]
  },
  {
   "cell_type": "markdown",
   "metadata": {},
   "source": [
    "Ahora si, definimos la funcion 100% con metodos de tensor flow. Como se puede ver es un modelo sencillo. la x de entreda con los pesos y segos se usan para la definición de la primera capa oculta.\n",
    "\n",
    "En este caso también usaremos un optimizador, gradiente descendente, para localizar el mínimo absoluto o el mínimo local lo más rápido posible.\n",
    "\n",
    "Con Keras veremos que es más sencillo y claro de modelar. Con TF, al principio cuesta tener en mente como \"anidar las capas\" cuando vayamos a correr la sesion."
   ]
  },
  {
   "cell_type": "code",
   "execution_count": 5,
   "metadata": {},
   "outputs": [],
   "source": [
    "def multi_layer_perceptron_xor(x, weights, biases):\n",
    "\n",
    "    hidden_layer1 = tf.add(tf.matmul(x, weights['w_h1']), biases['b_h1'])\n",
    "    hidden_layer1 = tf.nn.sigmoid(hidden_layer1)\n",
    "\n",
    "    out_layer = tf.add(tf.matmul(hidden_layer1, weights['w_out']), biases['b_out'])\n",
    "\n",
    "    return out_layer"
   ]
  },
  {
   "cell_type": "markdown",
   "metadata": {},
   "source": [
    "Lo siguiente es construir el modelo. TensorFlow introduce el concepto de session. tf.Session() guarda el estado de las variables y se encarga de ejecutar las operaciones.\n",
    "\n",
    "sess.run(opers) lanza las operaciones en la secuencia dada.\n",
    "\n",
    "- creamos el modelo. entrada -> h1 -> output\n",
    "- reduce_sum, hace la suma del resultado de aplicar la función de coste\n",
    "- agregamos el optimizador, en este caso un gradiente descente, al que le pasamos el ratio de aprendizaje\n",
    "- como \"objectivo\" del optimizador fijamos que se minimice la función de coste\n",
    "\n"
   ]
  },
  {
   "cell_type": "code",
   "execution_count": 6,
   "metadata": {},
   "outputs": [],
   "source": [
    "model = multi_layer_perceptron_xor(X, weights, biases)\n",
    "loss_func = tf.reduce_sum(tf.nn.sigmoid_cross_entropy_with_logits(logits=model, labels=Y))\n",
    "optimizer = tf.train.GradientDescentOptimizer(learning_rate=learning_rate).minimize(loss_func)"
   ]
  },
  {
   "cell_type": "markdown",
   "metadata": {},
   "source": [
    "Para ejecutar el modelo creamos una session en la cual ejecutamos las siguientes acciones:\n",
    "\n",
    "- sess.run -> Inicializar las variables. `global_variables_initializer` devuelve una operación de TF.\n",
    "\n",
    "Para cada iteración:\n",
    "- sess.run -> ejecuta, [función de coste -> función de activación] , y recibe como entrada los valores x e y. A través de la sesión se controla el flujo de operaciones y estado de los tensores.\n"
   ]
  },
  {
   "cell_type": "code",
   "execution_count": 9,
   "metadata": {},
   "outputs": [
    {
     "name": "stdout",
     "output_type": "stream",
     "text": [
      "loss= 2.78207\n",
      "loss= 2.76625\n",
      "loss= 2.74949\n",
      "loss= 2.69271\n",
      "loss= 2.56298\n",
      "loss= 2.34773\n",
      "loss= 2.09911\n",
      "loss= 1.80442\n",
      "loss= 1.38452\n",
      "loss= 0.93462\n"
     ]
    }
   ],
   "source": [
    "sess = tf.Session()\n",
    "init = tf.sess = tf.Session()\n",
    "init = tf.global_variables_initializer()\n",
    "sess.run(init)\n",
    "\n",
    "for k in range(num_iter):\n",
    "    tmp_cost, _ = sess.run([loss_func, optimizer], feed_dict={X: x, Y: y})\n",
    "    if k % display_step == 0:\n",
    "        print('loss= ' + \"{:.5f}\".format(tmp_cost))\n",
    "\n",
    "# separates the input space\n",
    "W = np.squeeze(sess.run(weights['w_h1']))   # 2x2\n",
    "b = np.squeeze(sess.run(biases['b_h1']))    # 2,\n",
    "\n",
    "sess.close()"
   ]
  },
  {
   "cell_type": "code",
   "execution_count": 10,
   "metadata": {},
   "outputs": [
    {
     "data": {
      "image/png": "[encoded data removed]",
      "text/plain": [
       "<Figure size 432x288 with 1 Axes>"
      ]
     },
     "metadata": {
      "needs_background": "light"
     },
     "output_type": "display_data"
    }
   ],
   "source": [
    "plot_x = np.array([np.min(x[:, 0] - 0.2), np.max(x[:, 1]+0.2)])\n",
    "plot_y =  -1 / W[1, 0] * (W[0, 0] * plot_x + b[0])\n",
    "plot_y = np.reshape(plot_y, [2, -1])\n",
    "plot_y = np.squeeze(plot_y)\n",
    "\n",
    "plot_y2 = -1 / W[1, 1] * (W[0, 1] * plot_x + b[1])\n",
    "plot_y2 = np.reshape(plot_y2, [2, -1])\n",
    "plot_y2 = np.squeeze(plot_y2)\n",
    "\n",
    "y = np.reshape(y, [4]) \n",
    "\n",
    "plt.scatter(x[:, 0], x[:, 1], c=y, s=100, cmap='viridis')\n",
    "plt.plot(plot_x, plot_y, color='k', linewidth=2)\n",
    "plt.plot(plot_x, plot_y2, color='k', linewidth=2)\n",
    "plt.xlim([-0.2, 1.2]); plt.ylim([-0.2, 1.25]);\n",
    "plt.xticks([0.0, 0.5, 1.0])\n",
    "plt.yticks([0.0, 0.5, 1.0])\n",
    "plt.show()"
   ]
  }
 ],
 "metadata": {
  "kernelspec": {
   "display_name": "Python 3",
   "language": "python",
   "name": "python3"
  },
  "language_info": {
   "codemirror_mode": {
    "name": "ipython",
    "version": 3
   },
   "file_extension": ".py",
   "mimetype": "text/x-python",
   "name": "python",
   "nbconvert_exporter": "python",
   "pygments_lexer": "ipython3",
   "version": "3.6.8"
  }
 },
 "nbformat": 4,
 "nbformat_minor": 2
}
